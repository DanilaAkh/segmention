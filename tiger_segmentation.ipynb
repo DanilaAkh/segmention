{
  "nbformat": 4,
  "nbformat_minor": 0,
  "metadata": {
    "colab": {
      "provenance": [],
      "gpuType": "T4"
    },
    "kernelspec": {
      "name": "python3",
      "display_name": "Python 3"
    },
    "language_info": {
      "name": "python"
    },
    "accelerator": "GPU"
  },
  "cells": [
    {
      "cell_type": "code",
      "source": [
        "# @title Загрузка библиотек\n",
        "!pip install -q 'git+https://github.com/facebookresearch/segment-anything.git'  #sam\n",
        "!pip install ultralytics                                                        #YOLOv8"
      ],
      "metadata": {
        "id": "ARLUtH0RvRit"
      },
      "execution_count": null,
      "outputs": []
    },
    {
      "cell_type": "code",
      "source": [
        "!wget -q https://dl.fbaipublicfiles.com/segment_anything/sam_vit_h_4b8939.pth   #Загрузка весов для sam"
      ],
      "metadata": {
        "id": "6e-n_Oem47Y-"
      },
      "execution_count": 3,
      "outputs": []
    },
    {
      "cell_type": "code",
      "source": [
        "# @title Проверка доступности GPU\n",
        "!nvidia-smi"
      ],
      "metadata": {
        "id": "pmbOTtoz5eUu",
        "outputId": "8bcb1538-63c5-4973-bd11-d5b0bb808890",
        "colab": {
          "base_uri": "https://localhost:8080/"
        }
      },
      "execution_count": 1,
      "outputs": [
        {
          "output_type": "stream",
          "name": "stdout",
          "text": [
            "Wed Nov  1 12:44:22 2023       \n",
            "+-----------------------------------------------------------------------------+\n",
            "| NVIDIA-SMI 525.105.17   Driver Version: 525.105.17   CUDA Version: 12.0     |\n",
            "|-------------------------------+----------------------+----------------------+\n",
            "| GPU  Name        Persistence-M| Bus-Id        Disp.A | Volatile Uncorr. ECC |\n",
            "| Fan  Temp  Perf  Pwr:Usage/Cap|         Memory-Usage | GPU-Util  Compute M. |\n",
            "|                               |                      |               MIG M. |\n",
            "|===============================+======================+======================|\n",
            "|   0  Tesla T4            Off  | 00000000:00:04.0 Off |                    0 |\n",
            "| N/A   46C    P8     9W /  70W |      0MiB / 15360MiB |      0%      Default |\n",
            "|                               |                      |                  N/A |\n",
            "+-------------------------------+----------------------+----------------------+\n",
            "                                                                               \n",
            "+-----------------------------------------------------------------------------+\n",
            "| Processes:                                                                  |\n",
            "|  GPU   GI   CI        PID   Type   Process name                  GPU Memory |\n",
            "|        ID   ID                                                   Usage      |\n",
            "|=============================================================================|\n",
            "|  No running processes found                                                 |\n",
            "+-----------------------------------------------------------------------------+\n"
          ]
        }
      ]
    },
    {
      "cell_type": "code",
      "execution_count": 4,
      "metadata": {
        "id": "byW6zchTQwfQ"
      },
      "outputs": [],
      "source": [
        "import numpy as np\n",
        "import torch\n",
        "import matplotlib\n",
        "import matplotlib.pyplot as plt\n",
        "import cv2"
      ]
    },
    {
      "cell_type": "code",
      "source": [
        "# @title Функции из sam https://github.com/facebookresearch/segment-anything/blob/main/notebooks/predictor_example.ipynb\n",
        "def show_mask(mask, ax, random_color=False):\n",
        "    if random_color:\n",
        "        color = np.concatenate([np.random.random(3), np.array([0.6])], axis=0)\n",
        "    else:\n",
        "        color = np.array([30/255, 144/255, 255/255, 0.6])\n",
        "    h, w = mask.shape[-2:]\n",
        "    mask_image = mask.reshape(h, w, 1) * color.reshape(1, 1, -1)\n",
        "    ax.imshow(mask_image)\n",
        "\n",
        "def show_points(coords, labels, ax, marker_size=375):\n",
        "    pos_points = coords[labels==1]\n",
        "    neg_points = coords[labels==0]\n",
        "    ax.scatter(pos_points[:, 0], pos_points[:, 1], color='green', marker='*', s=marker_size, edgecolor='white', linewidth=1.25)\n",
        "    ax.scatter(neg_points[:, 0], neg_points[:, 1], color='red', marker='*', s=marker_size, edgecolor='white', linewidth=1.25)\n",
        "\n",
        "def show_box(box, ax):\n",
        "    x0, y0 = box[0], box[1]\n",
        "    w, h = box[2] - box[0], box[3] - box[1]\n",
        "    ax.add_patch(plt.Rectangle((x0, y0), w, h, edgecolor='green', facecolor=(0,0,0,0), lw=2))"
      ],
      "metadata": {
        "id": "6CmjplzWgLRM"
      },
      "execution_count": 5,
      "outputs": []
    },
    {
      "cell_type": "code",
      "source": [
        "# @title Построение исходного изображения\n",
        "image = cv2.imread(\"000032.jpg\")\n",
        "image = cv2.cvtColor(image, cv2.COLOR_BGR2RGB)\n",
        "\n",
        "plt.figure(figsize=(20,20))\n",
        "plt.imshow(image)\n",
        "plt.axis(\"off\")\n",
        "plt.show()"
      ],
      "metadata": {
        "id": "4OUetp5Ln96Y"
      },
      "execution_count": 26,
      "outputs": []
    },
    {
      "cell_type": "code",
      "source": [
        "from ultralytics import YOLO\n",
        "\n",
        "matplotlib.use(\"Agg\")\n",
        "\n",
        "#load image\n",
        "image = cv2.imread(\"000037.jpg\")"
      ],
      "metadata": {
        "id": "E3J6ygsihmud"
      },
      "execution_count": 30,
      "outputs": []
    },
    {
      "cell_type": "code",
      "source": [
        "# @title Загрузка модели yolov8s и поиск \"22\" класса (зебры)\n",
        "#load nano detection model\n",
        "model = YOLO(\"yolov8s.pt\")\n",
        "objects = model(image, save=True, classes=[22])"
      ],
      "metadata": {
        "colab": {
          "base_uri": "https://localhost:8080/"
        },
        "id": "e_dwNfusi8K0",
        "outputId": "ed1b71e8-10b5-4559-a66b-add213018772"
      },
      "execution_count": 23,
      "outputs": [
        {
          "output_type": "stream",
          "name": "stderr",
          "text": [
            "\n",
            "0: 320x640 1 zebra, 122.4ms\n",
            "Speed: 2.2ms preprocess, 122.4ms inference, 2.0ms postprocess per image at shape (1, 3, 320, 640)\n",
            "Results saved to \u001b[1mruns/detect/predict5\u001b[0m\n"
          ]
        }
      ]
    },
    {
      "cell_type": "code",
      "source": [
        "# @title Возможные детекции\n",
        "result = model.predict(\"000002.jpg\")\n",
        "result = result[0]\n",
        "\n",
        "print(result.names)"
      ],
      "metadata": {
        "colab": {
          "base_uri": "https://localhost:8080/"
        },
        "id": "1jWhysNRpzHk",
        "outputId": "06169f6f-00c6-4338-ab05-f5588b8cae51"
      },
      "execution_count": 12,
      "outputs": [
        {
          "output_type": "stream",
          "name": "stderr",
          "text": [
            "\n",
            "image 1/1 /content/000002.jpg: 320x640 1 zebra, 10.6ms\n",
            "Speed: 1.9ms preprocess, 10.6ms inference, 1.7ms postprocess per image at shape (1, 3, 320, 640)\n"
          ]
        },
        {
          "output_type": "stream",
          "name": "stdout",
          "text": [
            "{0: 'person', 1: 'bicycle', 2: 'car', 3: 'motorcycle', 4: 'airplane', 5: 'bus', 6: 'train', 7: 'truck', 8: 'boat', 9: 'traffic light', 10: 'fire hydrant', 11: 'stop sign', 12: 'parking meter', 13: 'bench', 14: 'bird', 15: 'cat', 16: 'dog', 17: 'horse', 18: 'sheep', 19: 'cow', 20: 'elephant', 21: 'bear', 22: 'zebra', 23: 'giraffe', 24: 'backpack', 25: 'umbrella', 26: 'handbag', 27: 'tie', 28: 'suitcase', 29: 'frisbee', 30: 'skis', 31: 'snowboard', 32: 'sports ball', 33: 'kite', 34: 'baseball bat', 35: 'baseball glove', 36: 'skateboard', 37: 'surfboard', 38: 'tennis racket', 39: 'bottle', 40: 'wine glass', 41: 'cup', 42: 'fork', 43: 'knife', 44: 'spoon', 45: 'bowl', 46: 'banana', 47: 'apple', 48: 'sandwich', 49: 'orange', 50: 'broccoli', 51: 'carrot', 52: 'hot dog', 53: 'pizza', 54: 'donut', 55: 'cake', 56: 'chair', 57: 'couch', 58: 'potted plant', 59: 'bed', 60: 'dining table', 61: 'toilet', 62: 'tv', 63: 'laptop', 64: 'mouse', 65: 'remote', 66: 'keyboard', 67: 'cell phone', 68: 'microwave', 69: 'oven', 70: 'toaster', 71: 'sink', 72: 'refrigerator', 73: 'book', 74: 'clock', 75: 'vase', 76: 'scissors', 77: 'teddy bear', 78: 'hair drier', 79: 'toothbrush'}\n"
          ]
        }
      ]
    },
    {
      "cell_type": "code",
      "source": [
        "# @title Построение прямоугольника вокруг тигра и сегментация в sam\n",
        "for result in objects:\n",
        "    boxes = result.boxes\n",
        "    cls = boxes.cls\n",
        "    if len(cls) > 0 and cls[0] == 22:\n",
        "        # Получение координат\n",
        "        x1, y1, x2, y2 = boxes.xyxy[0].tolist()\n",
        "\n",
        "        # Постороение прямоугольника\n",
        "        cv2.rectangle(image, (int(x1), int(y1)), (int(x2), int(y2)), (0, 0, 255), 2)\n",
        "\n",
        "        # Текст к прямоугольнику\n",
        "        text = \"tiger\"\n",
        "        font = cv2.FONT_HERSHEY_SIMPLEX\n",
        "        font_scale = 1.5\n",
        "        thickness = 4\n",
        "        text_size, _ = cv2.getTextSize(text, font, font_scale, thickness)\n",
        "        text_x = int(x1 + 5)\n",
        "        text_y = int(y1 + text_size[1] + 5)\n",
        "        cv2.putText(image, text, (text_x, text_y), font, font_scale, (0, 0, 255), thickness)\n",
        "\n",
        "        ##################################################################################\n",
        "        #SAM MODEL\n",
        "        ##################################################################################\n",
        "\n",
        "        import sys\n",
        "        sys.path.append(\"..\")\n",
        "        from segment_anything import sam_model_registry, SamPredictor\n",
        "\n",
        "        sam_checkpoint = \"sam_vit_h_4b8939.pth\" # Наименование модели\n",
        "        model_type = \"vit_h\" # Тип модели\n",
        "        device = \"cuda\"      # используемое ядро\n",
        "\n",
        "        sam = sam_model_registry[model_type](checkpoint=sam_checkpoint)\n",
        "        sam.to(device=device)\n",
        "\n",
        "        predictor = SamPredictor(sam)\n",
        "        predictor.set_image(image)\n",
        "\n",
        "        input_box = np.array(boxes.xyxy[0].tolist())\n",
        "        print(\"input_box\", input_box)\n",
        "\n",
        "        masks, _, _ = predictor.predict(\n",
        "            point_coords=None,\n",
        "            point_labels=None,\n",
        "            box=input_box[None,:],   # Использование необходимого прямоугольника\n",
        "            multimask_output=False\n",
        "        )\n",
        "\n",
        "        plt.figure(figsize=(10,10))\n",
        "        plt.imshow(image)\n",
        "        show_mask(masks[0], plt.gca())\n",
        "        show_box(input_box, plt.gca())\n",
        "        plt.axis(\"off\")\n",
        "        plt.savefig(\"output.png\")\n",
        "        plt.show()"
      ],
      "metadata": {
        "colab": {
          "base_uri": "https://localhost:8080/"
        },
        "id": "h7uVMFS1kIEK",
        "outputId": "df0680bf-b81e-49a1-c8f6-32f20e7bd6ef"
      },
      "execution_count": 34,
      "outputs": [
        {
          "output_type": "stream",
          "name": "stdout",
          "text": [
            "input_box [     23.439       31.03      784.34      348.07]\n"
          ]
        }
      ]
    }
  ]
}