{
  "nbformat": 4,
  "nbformat_minor": 0,
  "metadata": {
    "colab": {
      "provenance": [],
      "gpuType": "T4"
    },
    "kernelspec": {
      "name": "python3",
      "display_name": "Python 3"
    },
    "language_info": {
      "name": "python"
    },
    "accelerator": "GPU"
  },
  "cells": [
    {
      "cell_type": "code",
      "source": [
        "# @title Загрузка библиотек\n",
        "!pip install -q 'git+https://github.com/facebookresearch/segment-anything.git'  #sam\n",
        "!pip install ultralytics                                                        #YOLOv8"
      ],
      "metadata": {
        "id": "ARLUtH0RvRit"
      },
      "execution_count": null,
      "outputs": []
    },
    {
      "cell_type": "code",
      "source": [
        "!wget -q https://dl.fbaipublicfiles.com/segment_anything/sam_vit_h_4b8939.pth   #Загрузка весов для sam"
      ],
      "metadata": {
        "id": "6e-n_Oem47Y-"
      },
      "execution_count": 3,
      "outputs": []
    },
    {
      "cell_type": "code",
      "source": [
        "# @title Проверка доступности GPU\n",
        "!nvidia-smi"
      ],
      "metadata": {
        "id": "pmbOTtoz5eUu",
        "outputId": "0dae1658-6662-470a-f637-d18024a70c60",
        "colab": {
          "base_uri": "https://localhost:8080/"
        }
      },
      "execution_count": 4,
      "outputs": [
        {
          "output_type": "stream",
          "name": "stdout",
          "text": [
            "/bin/bash: line 1: nvidia-smi: command not found\n"
          ]
        }
      ]
    },
    {
      "cell_type": "code",
      "execution_count": 5,
      "metadata": {
        "id": "byW6zchTQwfQ"
      },
      "outputs": [],
      "source": [
        "import numpy as np\n",
        "import torch\n",
        "import matplotlib\n",
        "import matplotlib.pyplot as plt\n",
        "import cv2\n",
        "import os\n",
        "from pycocotools import mask as mask_utils\n",
        "import json"
      ]
    },
    {
      "cell_type": "code",
      "source": [
        "# @title Функции из sam https://github.com/facebookresearch/segment-anything/blob/main/notebooks/predictor_example.ipynb\n",
        "def show_mask(mask, ax, random_color=False):\n",
        "    if random_color:\n",
        "        color = np.concatenate([np.random.random(3), np.array([0.6])], axis=0)\n",
        "    else:\n",
        "        color = np.array([30/255, 144/255, 255/255, 0.6])\n",
        "    h, w = mask.shape[-2:]\n",
        "    mask_image = mask.reshape(h, w, 1) * color.reshape(1, 1, -1)\n",
        "    ax.imshow(mask_image)\n",
        "\n",
        "def show_points(coords, labels, ax, marker_size=375):\n",
        "    pos_points = coords[labels==1]\n",
        "    neg_points = coords[labels==0]\n",
        "    ax.scatter(pos_points[:, 0], pos_points[:, 1], color='green', marker='*', s=marker_size, edgecolor='white', linewidth=1.25)\n",
        "    ax.scatter(neg_points[:, 0], neg_points[:, 1], color='red', marker='*', s=marker_size, edgecolor='white', linewidth=1.25)\n",
        "\n",
        "def show_box(box, ax):\n",
        "    x0, y0 = box[0], box[1]\n",
        "    w, h = box[2] - box[0], box[3] - box[1]\n",
        "    ax.add_patch(plt.Rectangle((x0, y0), w, h, edgecolor='green', facecolor=(0,0,0,0), lw=2))"
      ],
      "metadata": {
        "id": "6CmjplzWgLRM"
      },
      "execution_count": 6,
      "outputs": []
    },
    {
      "cell_type": "code",
      "source": [
        "# @title Функция построение прямоугольника вокруг тигра и сегментация в sam\n",
        "def segment_pic(file, sam):\n",
        "    #load image\n",
        "    image = cv2.imread(f\"./train/{file}\")\n",
        "    objects = model(image, save=True, classes=[22])\n",
        "    for result in objects:\n",
        "        boxes = result.boxes\n",
        "        cls = boxes.cls\n",
        "        if len(cls) > 0 and cls[0] == 22:\n",
        "            # Получение координат\n",
        "            x1, y1, x2, y2 = boxes.xyxy[0].tolist()\n",
        "\n",
        "            # Постороение прямоугольника\n",
        "            cv2.rectangle(image, (int(x1), int(y1)), (int(x2), int(y2)), (0, 0, 255), 2)\n",
        "\n",
        "            # Текст к прямоугольнику\n",
        "            text = \"tiger\"\n",
        "            font = cv2.FONT_HERSHEY_SIMPLEX\n",
        "            font_scale = 1.5\n",
        "            thickness = 4\n",
        "            text_size, _ = cv2.getTextSize(text, font, font_scale, thickness)\n",
        "            text_x = int(x1 + 5)\n",
        "            text_y = int(y1 + text_size[1] + 5)\n",
        "            cv2.putText(image, text, (text_x, text_y), font, font_scale, (0, 0, 255), thickness)\n",
        "\n",
        "            ##################################################################################\n",
        "            #SAM MODEL\n",
        "            ##################################################################################\n",
        "\n",
        "            predictor = SamPredictor(sam)\n",
        "            predictor.set_image(image)\n",
        "\n",
        "            input_box = np.array(boxes.xyxy[0].tolist())\n",
        "\n",
        "            masks, _, _ = predictor.predict(\n",
        "                point_coords=None,\n",
        "                point_labels=None,\n",
        "                box=input_box[None,:],   # Использование необходимого прямоугольника\n",
        "                multimask_output=False\n",
        "            )\n",
        "            out_file, _ = file.split(\".\")\n",
        "            # Convert the mask to a binary image\n",
        "            binary_mask = torch.from_numpy(masks).squeeze().numpy().astype(np.uint8)\n",
        "\n",
        "            # Find the contours of the mask\n",
        "            contours, hierarchy = cv2.findContours(binary_mask,\n",
        "                                                cv2.RETR_EXTERNAL,\n",
        "                                                cv2.CHAIN_APPROX_SIMPLE)\n",
        "            largest_contour = max(contours, key=cv2.contourArea)\n",
        "            segmentation = largest_contour.flatten().tolist()\n",
        "\n",
        "            coco_data = {\n",
        "                \"annotations\":\n",
        "                 {\n",
        "                    \"id\": 1,\n",
        "                    \"image_id\": int(f\"{out_file}\"),\n",
        "                    \"category_id\": 1,\n",
        "                    \"segmentation\": segmentation, #[mask_utils.encode(np.asfortranarray(binary_mask))]\n",
        "                    \"area\": int(masks[0].sum()),\n",
        "                    \"bbox\": [x1, y1, x2, y2],\n",
        "                    \"iscrowd\": 0\n",
        "                }\n",
        "            }\n",
        "            coco_list = [coco_data]\n",
        "            plt.figure(figsize=(10,10))\n",
        "            plt.imshow(image)\n",
        "            show_mask(masks[0], plt.gca())\n",
        "            show_box(input_box, plt.gca())\n",
        "            plt.axis(\"off\")\n",
        "            plt.savefig(f\"./out/{out_file}.png\")\n",
        "            plt.show()\n",
        "\n",
        "            with open(f\"./out_json/out_{out_file}.json\", \"w\") as f:\n",
        "                json.dump(coco_list, f)"
      ],
      "metadata": {
        "id": "h7uVMFS1kIEK"
      },
      "execution_count": 11,
      "outputs": []
    },
    {
      "cell_type": "code",
      "source": [
        "# @title Построение исходного изображения\n",
        "image = cv2.imread(\"000032.jpg\")\n",
        "image = cv2.cvtColor(image, cv2.COLOR_BGR2RGB)\n",
        "\n",
        "plt.figure(figsize=(20,20))\n",
        "plt.imshow(image)\n",
        "plt.axis(\"off\")\n",
        "plt.show()"
      ],
      "metadata": {
        "id": "4OUetp5Ln96Y"
      },
      "execution_count": null,
      "outputs": []
    },
    {
      "cell_type": "code",
      "source": [
        "# @title Загрузка модели yolov8s\n",
        "from ultralytics import YOLO\n",
        "#load small detection model\n",
        "model = YOLO(\"yolov8s.pt\")"
      ],
      "metadata": {
        "id": "e_dwNfusi8K0",
        "colab": {
          "base_uri": "https://localhost:8080/"
        },
        "outputId": "ab74ea5b-8bcf-4287-c46f-4bd5313ea7a8"
      },
      "execution_count": 8,
      "outputs": [
        {
          "output_type": "stream",
          "name": "stderr",
          "text": [
            "Downloading https://github.com/ultralytics/assets/releases/download/v0.0.0/yolov8s.pt to 'yolov8s.pt'...\n",
            "100%|██████████| 21.5M/21.5M [00:00<00:00, 241MB/s]\n"
          ]
        }
      ]
    },
    {
      "cell_type": "code",
      "source": [
        "import sys\n",
        "sys.path.append(\"..\")\n",
        "from segment_anything import sam_model_registry, SamPredictor\n",
        "\n",
        "sam_checkpoint = \"sam_vit_h_4b8939.pth\" # Наименование модели\n",
        "model_type = \"vit_h\" # Тип модели\n",
        "device = \"cpu\"      # используемое ядро (для быстродействия лучше использовать \"cuda\")\n",
        "\n",
        "sam = sam_model_registry[model_type](checkpoint=sam_checkpoint)\n",
        "sam.to(device=device)"
      ],
      "metadata": {
        "id": "pAlF1XJmupzU"
      },
      "execution_count": null,
      "outputs": []
    },
    {
      "cell_type": "code",
      "source": [
        "matplotlib.use(\"Agg\")\n",
        "for filename in os.listdir('train'):\n",
        "    if filename[filename.rfind(\".\") + 1:] in ['jpg', 'jpeg', 'png']:\n",
        "        segment_pic(filename, sam)"
      ],
      "metadata": {
        "id": "E3J6ygsihmud",
        "colab": {
          "base_uri": "https://localhost:8080/"
        },
        "outputId": "6e0bd7fc-5d00-490c-ca50-3521e1b8a147"
      },
      "execution_count": 12,
      "outputs": [
        {
          "output_type": "stream",
          "name": "stderr",
          "text": [
            "\n",
            "0: 416x640 1 zebra, 287.3ms\n",
            "Speed: 3.6ms preprocess, 287.3ms inference, 0.8ms postprocess per image at shape (1, 3, 416, 640)\n",
            "Results saved to \u001b[1mruns/detect/predict\u001b[0m\n"
          ]
        }
      ]
    },
    {
      "cell_type": "code",
      "source": [
        "# @title Возможные детекции\n",
        "result = model.predict(\"./train/000037.jpg\")\n",
        "result = result[0]\n",
        "\n",
        "print(result.names)"
      ],
      "metadata": {
        "colab": {
          "base_uri": "https://localhost:8080/"
        },
        "id": "1jWhysNRpzHk",
        "outputId": "0d453325-e8b2-4a92-a801-2f9515bc0a5e"
      },
      "execution_count": null,
      "outputs": [
        {
          "output_type": "stream",
          "name": "stderr",
          "text": [
            "\n",
            "image 1/1 /content/train/000037.jpg: 320x640 1 zebra, 16.1ms\n",
            "Speed: 2.2ms preprocess, 16.1ms inference, 2.0ms postprocess per image at shape (1, 3, 320, 640)\n"
          ]
        },
        {
          "output_type": "stream",
          "name": "stdout",
          "text": [
            "{0: 'person', 1: 'bicycle', 2: 'car', 3: 'motorcycle', 4: 'airplane', 5: 'bus', 6: 'train', 7: 'truck', 8: 'boat', 9: 'traffic light', 10: 'fire hydrant', 11: 'stop sign', 12: 'parking meter', 13: 'bench', 14: 'bird', 15: 'cat', 16: 'dog', 17: 'horse', 18: 'sheep', 19: 'cow', 20: 'elephant', 21: 'bear', 22: 'zebra', 23: 'giraffe', 24: 'backpack', 25: 'umbrella', 26: 'handbag', 27: 'tie', 28: 'suitcase', 29: 'frisbee', 30: 'skis', 31: 'snowboard', 32: 'sports ball', 33: 'kite', 34: 'baseball bat', 35: 'baseball glove', 36: 'skateboard', 37: 'surfboard', 38: 'tennis racket', 39: 'bottle', 40: 'wine glass', 41: 'cup', 42: 'fork', 43: 'knife', 44: 'spoon', 45: 'bowl', 46: 'banana', 47: 'apple', 48: 'sandwich', 49: 'orange', 50: 'broccoli', 51: 'carrot', 52: 'hot dog', 53: 'pizza', 54: 'donut', 55: 'cake', 56: 'chair', 57: 'couch', 58: 'potted plant', 59: 'bed', 60: 'dining table', 61: 'toilet', 62: 'tv', 63: 'laptop', 64: 'mouse', 65: 'remote', 66: 'keyboard', 67: 'cell phone', 68: 'microwave', 69: 'oven', 70: 'toaster', 71: 'sink', 72: 'refrigerator', 73: 'book', 74: 'clock', 75: 'vase', 76: 'scissors', 77: 'teddy bear', 78: 'hair drier', 79: 'toothbrush'}\n"
          ]
        }
      ]
    }
  ]
}